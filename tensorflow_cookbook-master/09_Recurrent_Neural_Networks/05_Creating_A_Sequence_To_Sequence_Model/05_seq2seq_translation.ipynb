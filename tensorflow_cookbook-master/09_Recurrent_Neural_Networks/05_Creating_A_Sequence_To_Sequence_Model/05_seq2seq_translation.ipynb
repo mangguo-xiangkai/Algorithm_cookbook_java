{
 "cells": [
  {
   "cell_type": "markdown",
   "metadata": {
    "deletable": true,
    "editable": true
   },
   "source": [
    "# Creating Sequence to Sequence Models\n",
    "\n",
    "----------------------------------\n",
    "\n",
    "Here we show how to implement sequence to sequence models. Specifically, we will build an English to German translation model.\n",
    "\n",
    "\n",
    "We start by loading the necessary libraries"
   ]
  },
  {
   "cell_type": "code",
   "execution_count": 1,
   "metadata": {
    "collapsed": false,
    "deletable": true,
    "editable": true
   },
   "outputs": [],
   "source": [
    "import os\n",
    "import re\n",
    "import sys\n",
    "import string\n",
    "import requests\n",
    "import io\n",
    "import numpy as np\n",
    "import collections\n",
    "import random\n",
    "import pickle\n",
    "import string\n",
    "import matplotlib.pyplot as plt\n",
    "import tensorflow as tf\n",
    "from zipfile import ZipFile\n",
    "from collections import Counter\n",
    "from tensorflow.python.framework import ops\n",
    "ops.reset_default_graph()"
   ]
  },
  {
   "cell_type": "markdown",
   "metadata": {
    "deletable": true,
    "editable": true
   },
   "source": [
    "TensorFlow has a separate `models` folder that holds some great models that we can use.  One of these is a seq2seq model that we will use to train on our translation data. The models are located here:\n",
    "\n",
    "https://github.com/tensorflow/models\n",
    "\n",
    "And specifically, the seq2seq model and utilities are located here:\n",
    "\n",
    "https://github.com/tensorflow/models/tree/master/tutorials/rnn/translate\n",
    "    \n",
    "If you want to download them separately, you may do that.  The goal here is to access the `data_utils.py` and the `seq2seq_model.py` scripts in the above folder.  We will import them.\n",
    "\n",
    "The following block of code will import the whole `models` repository into the temp folder."
   ]
  },
  {
   "cell_type": "code",
   "execution_count": 2,
   "metadata": {
    "collapsed": false,
    "deletable": true,
    "editable": true
   },
   "outputs": [],
   "source": [
    "local_repository = 'temp'\n",
    "if not os.path.exists(local_repository):\n",
    "    from git import Repo\n",
    "    tf_model_repository = 'https://github.com/tensorflow/models'\n",
    "    Repo.clone_from(tf_model_repository, local_repository)"
   ]
  },
  {
   "cell_type": "markdown",
   "metadata": {
    "deletable": true,
    "editable": true
   },
   "source": [
    "Now that we have downloaded the model files, we import the necessary funtions."
   ]
  },
  {
   "cell_type": "code",
   "execution_count": 3,
   "metadata": {
    "collapsed": false,
    "deletable": true,
    "editable": true
   },
   "outputs": [],
   "source": [
    "sys.path.insert(0, 'temp/tutorials/rnn/translate/')\n",
    "import seq2seq_model as seq2seq_model\n",
    "import data_utils as data_utils"
   ]
  },
  {
   "cell_type": "markdown",
   "metadata": {
    "deletable": true,
    "editable": true
   },
   "source": [
    "Now we start a computational graph session."
   ]
  },
  {
   "cell_type": "code",
   "execution_count": 4,
   "metadata": {
    "collapsed": true,
    "deletable": true,
    "editable": true
   },
   "outputs": [],
   "source": [
    "sess = tf.Session()"
   ]
  },
  {
   "cell_type": "markdown",
   "metadata": {
    "deletable": true,
    "editable": true
   },
   "source": [
    "We setup the model parameters for our seq2seq model."
   ]
  },
  {
   "cell_type": "code",
   "execution_count": 6,
   "metadata": {
    "collapsed": true,
    "deletable": true,
    "editable": true
   },
   "outputs": [],
   "source": [
    "# Model Parameters\n",
    "learning_rate = 0.1\n",
    "lr_decay_rate = 0.99\n",
    "lr_decay_every = 100\n",
    "max_gradient = 5.0\n",
    "batch_size = 50\n",
    "num_layers = 3\n",
    "rnn_size = 500\n",
    "layer_size = 512\n",
    "generations = 10000\n",
    "vocab_size = 10000\n",
    "save_every = 1000\n",
    "eval_every = 500\n",
    "output_every = 50\n",
    "punct = string.punctuation"
   ]
  },
  {
   "cell_type": "markdown",
   "metadata": {
    "deletable": true,
    "editable": true
   },
   "source": [
    "We want to download the data, save the data, save the model, and create test english sentences for the model to be evaluated on."
   ]
  },
  {
   "cell_type": "code",
   "execution_count": 7,
   "metadata": {
    "collapsed": true,
    "deletable": true,
    "editable": true
   },
   "outputs": [],
   "source": [
    "# Data Parameters\n",
    "data_dir = 'temp'\n",
    "data_file = 'eng_ger.txt'\n",
    "model_path = 'seq2seq_model'\n",
    "full_model_dir = os.path.join(data_dir, model_path)\n",
    "\n",
    "# Test Translation from English (lowercase, no punct)\n",
    "test_english = ['hello where is my computer',\n",
    "                'the quick brown fox jumped over the lazy dog',\n",
    "                'is it going to rain tomorrow']"
   ]
  },
  {
   "cell_type": "markdown",
   "metadata": {
    "deletable": true,
    "editable": true
   },
   "source": [
    "Now we create the model directory if it doesn't exist.\n",
    "\n",
    "After, we load the english-german sentence translation data."
   ]
  },
  {
   "cell_type": "code",
   "execution_count": 8,
   "metadata": {
    "collapsed": false,
    "deletable": true,
    "editable": true
   },
   "outputs": [
    {
     "name": "stdout",
     "output_type": "stream",
     "text": [
      "Loading English-German Data\n"
     ]
    }
   ],
   "source": [
    "# Make Model Directory\n",
    "if not os.path.exists(full_model_dir):\n",
    "    os.makedirs(full_model_dir)\n",
    "\n",
    "print('Loading English-German Data')\n",
    "# Check for data, if it doesn't exist, download it and save it\n",
    "if not os.path.isfile(os.path.join(data_dir, data_file)):\n",
    "    print('Data not found, downloading Eng-Ger sentences from www.manythings.org')\n",
    "    sentence_url = 'http://www.manythings.org/anki/deu-eng.zip'\n",
    "    r = requests.get(sentence_url)\n",
    "    z = ZipFile(io.BytesIO(r.content))\n",
    "    file = z.read('deu.txt')\n",
    "    # Format Data\n",
    "    eng_ger_data = file.decode()\n",
    "    eng_ger_data = eng_ger_data.encode('ascii',errors='ignore')\n",
    "    eng_ger_data = eng_ger_data.decode().split('\\n')\n",
    "    # Write to file\n",
    "    with open(os.path.join(data_dir, data_file), 'w') as out_conn:\n",
    "        for sentence in eng_ger_data:\n",
    "            out_conn.write(sentence + '\\n')\n",
    "else:\n",
    "    eng_ger_data = []\n",
    "    with open(os.path.join(data_dir, data_file), 'r') as in_conn:\n",
    "        for row in in_conn:\n",
    "            eng_ger_data.append(row[:-1])\n",
    "print('Done!')"
   ]
  },
  {
   "cell_type": "markdown",
   "metadata": {
    "deletable": true,
    "editable": true
   },
   "source": [
    "Remove punctuation and separate the english-german sentences."
   ]
  },
  {
   "cell_type": "code",
   "execution_count": 9,
   "metadata": {
    "collapsed": true,
    "deletable": true,
    "editable": true
   },
   "outputs": [],
   "source": [
    "# Remove punctuation\n",
    "eng_ger_data = [''.join(char for char in sent if char not in punct) for sent in eng_ger_data]\n",
    "\n",
    "# Split each sentence by tabs    \n",
    "eng_ger_data = [x.split('\\t') for x in eng_ger_data if len(x)>=1]\n",
    "[english_sentence, german_sentence] = [list(x) for x in zip(*eng_ger_data)]\n",
    "english_sentence = [x.lower().split() for x in english_sentence]\n",
    "german_sentence = [x.lower().split() for x in german_sentence]"
   ]
  },
  {
   "cell_type": "markdown",
   "metadata": {
    "deletable": true,
    "editable": true
   },
   "source": [
    "Now we process the english, german, and test sentences.  We need to create a lookup that translates words to an index number.  Note that we purposely exclude the index 0, because that will stand for an unknown word (rare or new words)."
   ]
  },
  {
   "cell_type": "code",
   "execution_count": 10,
   "metadata": {
    "collapsed": false,
    "deletable": true,
    "editable": true
   },
   "outputs": [
    {
     "name": "stdout",
     "output_type": "stream",
     "text": [
      "Processing the vocabularies.\n",
      "Done!\n"
     ]
    }
   ],
   "source": [
    "print('Processing the vocabularies.')\n",
    "# Process the English Vocabulary\n",
    "all_english_words = [word for sentence in english_sentence for word in sentence]\n",
    "all_english_counts = Counter(all_english_words)\n",
    "eng_word_keys = [x[0] for x in all_english_counts.most_common(vocab_size-1)] #-1 because 0=unknown is also in there\n",
    "eng_vocab2ix = dict(zip(eng_word_keys, range(1,vocab_size)))\n",
    "eng_ix2vocab = {val:key for key, val in eng_vocab2ix.items()}\n",
    "english_processed = []\n",
    "for sent in english_sentence:\n",
    "    temp_sentence = []\n",
    "    for word in sent:\n",
    "        try:\n",
    "            temp_sentence.append(eng_vocab2ix[word])\n",
    "        except:\n",
    "            temp_sentence.append(0)\n",
    "    english_processed.append(temp_sentence)\n",
    "\n",
    "\n",
    "# Process the German Vocabulary\n",
    "all_german_words = [word for sentence in german_sentence for word in sentence]\n",
    "all_german_counts = Counter(all_german_words)\n",
    "ger_word_keys = [x[0] for x in all_german_counts.most_common(vocab_size-1)]\n",
    "ger_vocab2ix = dict(zip(ger_word_keys, range(1,vocab_size)))\n",
    "ger_ix2vocab = {val:key for key, val in ger_vocab2ix.items()}\n",
    "german_processed = []\n",
    "for sent in german_sentence:\n",
    "    temp_sentence = []\n",
    "    for word in sent:\n",
    "        try:\n",
    "            temp_sentence.append(ger_vocab2ix[word])\n",
    "        except:\n",
    "            temp_sentence.append(0)\n",
    "    german_processed.append(temp_sentence)\n",
    "\n",
    "\n",
    "# Process the test english sentences, use '0' if word not in our vocab\n",
    "test_data = []\n",
    "for sentence in test_english:\n",
    "    temp_sentence = []\n",
    "    for word in sentence.split(' '):\n",
    "        try:\n",
    "            temp_sentence.append(eng_vocab2ix[word])\n",
    "        except:\n",
    "            # Use '0' if the word isn't in our vocabulary\n",
    "            temp_sentence.append(0)\n",
    "    test_data.append(temp_sentence)\n",
    "print('Done!')"
   ]
  },
  {
   "cell_type": "markdown",
   "metadata": {
    "deletable": true,
    "editable": true
   },
   "source": [
    "Because the input/output sentences can be of very different lengths (1 word vs a whole sentence), we will bucket the sentences by input/output lenghts.  For each bucket, we will train a different seq2seq model."
   ]
  },
  {
   "cell_type": "code",
   "execution_count": 11,
   "metadata": {
    "collapsed": false,
    "deletable": true,
    "editable": true
   },
   "outputs": [
    {
     "name": "stdout",
     "output_type": "stream",
     "text": [
      "Data pts in bucket 0: 57222\n",
      "Data pts in bucket 1: 47613\n",
      "Data pts in bucket 2: 36158\n",
      "Data pts in bucket 3: 6795\n"
     ]
    }
   ],
   "source": [
    "# Define Buckets for sequence lengths\n",
    "# We will split data into the corresponding buckets:\n",
    "# (x1, y1), (x2, y2), ...\n",
    "# Where all entries in bucket 1: len(x)<x1 and len(y)<y1 and so on.\n",
    "x_maxs = [5, 7, 11, 50]\n",
    "y_maxs = [10, 12, 17, 60]\n",
    "buckets = [x for x in zip(x_maxs, y_maxs)]\n",
    "bucketed_data = [[] for _ in range(len(x_maxs))]\n",
    "for eng, ger in zip(english_processed, german_processed):\n",
    "    for ix, (x_max, y_max) in enumerate(zip(x_maxs, y_maxs)):\n",
    "        if (len(eng) <= x_max) and (len(ger) <= y_max):\n",
    "            bucketed_data[ix].append([eng, ger])\n",
    "            break\n",
    "\n",
    "# Print summaries of buckets\n",
    "train_bucket_sizes = [len(bucketed_data[b]) for b in range(len(buckets))]\n",
    "train_total_size = float(sum(train_bucket_sizes))\n",
    "for ix, bucket in enumerate(bucketed_data):\n",
    "    print('Data pts in bucket {}: {}'.format(ix, len(bucket)))"
   ]
  },
  {
   "cell_type": "markdown",
   "metadata": {
    "deletable": true,
    "editable": true
   },
   "source": [
    "Now we declare our seq2seq model function."
   ]
  },
  {
   "cell_type": "code",
   "execution_count": 12,
   "metadata": {
    "collapsed": true,
    "deletable": true,
    "editable": true
   },
   "outputs": [],
   "source": [
    "# Create sequence to sequence model\n",
    "def translation_model(sess, input_vocab_size, output_vocab_size,\n",
    "                      buckets, rnn_size, num_layers, max_gradient,\n",
    "                      learning_rate, lr_decay_rate, forward_only):\n",
    "    model = seq2seq_model.Seq2SeqModel(\n",
    "          input_vocab_size,\n",
    "          output_vocab_size,\n",
    "          buckets,\n",
    "          rnn_size,\n",
    "          num_layers,\n",
    "          max_gradient,\n",
    "          batch_size,\n",
    "          learning_rate,\n",
    "          lr_decay_rate,\n",
    "          forward_only=forward_only,\n",
    "          dtype=tf.float32)\n",
    "    return(model)"
   ]
  },
  {
   "cell_type": "markdown",
   "metadata": {
    "deletable": true,
    "editable": true
   },
   "source": [
    "Now we create our train/test models. We want these models to use the exact same variables, so we have to tell TensorFlow to reuse the variables when we create the test-model."
   ]
  },
  {
   "cell_type": "code",
   "execution_count": 13,
   "metadata": {
    "collapsed": false,
    "deletable": true,
    "editable": true,
    "scrolled": false
   },
   "outputs": [
    {
     "name": "stdout",
     "output_type": "stream",
     "text": [
      "Creating Translation Model\n"
     ]
    }
   ],
   "source": [
    "print('Creating Translation Model')\n",
    "input_vocab_size = vocab_size\n",
    "output_vocab_size = vocab_size\n",
    "\n",
    "translate_model = translation_model(sess=sess,\n",
    "                                    input_vocab_size=vocab_size,\n",
    "                                    output_vocab_size=vocab_size,\n",
    "                                    buckets=buckets,\n",
    "                                    rnn_size=rnn_size,\n",
    "                                    num_layers=num_layers,\n",
    "                                    max_gradient=max_gradient,\n",
    "                                    learning_rate=learning_rate,\n",
    "                                    lr_decay_rate=lr_decay_rate,\n",
    "                                    forward_only=False)\n",
    "\n",
    "# Tell TensorFlow to reuse the variables for the test model\n",
    "with tf.variable_scope(tf.get_variable_scope(), reuse=True):\n",
    "    #Reuse the variables for the test model\n",
    "    test_model = translation_model(sess=sess,\n",
    "                                    input_vocab_size=vocab_size,\n",
    "                                    output_vocab_size=vocab_size,\n",
    "                                    buckets=buckets,\n",
    "                                    rnn_size=rnn_size,\n",
    "                                    num_layers=num_layers,\n",
    "                                    max_gradient=max_gradient,\n",
    "                                    learning_rate=learning_rate,\n",
    "                                    lr_decay_rate=lr_decay_rate,\n",
    "                                    forward_only=True)\n",
    "    test_model.batch_size = 1"
   ]
  },
  {
   "cell_type": "markdown",
   "metadata": {
    "deletable": true,
    "editable": true
   },
   "source": [
    "Now we can initialize the model variables."
   ]
  },
  {
   "cell_type": "code",
   "execution_count": 14,
   "metadata": {
    "collapsed": true,
    "deletable": true,
    "editable": true
   },
   "outputs": [],
   "source": [
    "# Initialize all model variables\n",
    "init = tf.global_variables_initializer()\n",
    "sess.run(init)"
   ]
  },
  {
   "cell_type": "markdown",
   "metadata": {
    "deletable": true,
    "editable": true
   },
   "source": [
    "We now start the training.  For each iteration, we pick a random bicket, and get a batch of sentences from that bucket.  There are then trained on."
   ]
  },
  {
   "cell_type": "code",
   "execution_count": 15,
   "metadata": {
    "collapsed": false,
    "deletable": true,
    "editable": true
   },
   "outputs": [
    {
     "name": "stdout",
     "output_type": "stream",
     "text": [
      "Gen #50 out of 10000. Loss: 8.335\n",
      "Gen #100 out of 10000. Loss: 5.929\n",
      "Gen #150 out of 10000. Loss: 5.74\n",
      "Gen #200 out of 10000. Loss: 5.884\n",
      "Gen #250 out of 10000. Loss: 5.682\n",
      "Gen #300 out of 10000. Loss: 5.622\n",
      "Gen #350 out of 10000. Loss: 5.546\n",
      "Gen #400 out of 10000. Loss: 5.555\n",
      "Gen #450 out of 10000. Loss: 5.608\n",
      "Gen #500 out of 10000. Loss: 5.359\n",
      "English: hello where is my computer\n",
      "German: ['ich', 'ist', 'ist', 'ist', 'nicht', 'nicht', 'nicht', 'zu', 'zu', 'zu']\n",
      "English: the quick brown fox jumped over the lazy dog\n",
      "German: ['wir', 'ist', 'ist', 'ist', 'ist', 'nicht', 'zu', 'zu', 'zu', 'zu', 'zu', 'zu', 'zu', 'zu', 'zu', 'zu', 'zu']\n",
      "English: is it going to rain tomorrow\n",
      "German: ['wir', 'ist', 'ist', 'ist', 'nicht', 'nicht', 'zu', 'zu', 'zu', 'zu', 'zu', 'zu']\n",
      "Gen #550 out of 10000. Loss: 5.308\n",
      "Gen #600 out of 10000. Loss: 5.269\n",
      "Gen #650 out of 10000. Loss: 5.234\n",
      "Gen #700 out of 10000. Loss: 5.18\n",
      "Gen #750 out of 10000. Loss: 5.351\n",
      "Gen #800 out of 10000. Loss: 5.521\n",
      "Gen #850 out of 10000. Loss: 5.276\n",
      "Gen #900 out of 10000. Loss: 4.909\n",
      "Gen #950 out of 10000. Loss: 5.045\n",
      "Gen #1000 out of 10000. Loss: 5.31\n",
      "Saving model to temp/seq2seq_model.\n",
      "English: hello where is my computer\n",
      "German: ['das', 'ist', 'ist', 'ist', 'zu', 'zu', 'zu', 'zu', 'zu', 'zu']\n",
      "English: the quick brown fox jumped over the lazy dog\n",
      "German: ['der', 'ist', 'die', 'die', 'der', 'der', 'der', 'zu', 'zu', 'zu', 'zu', 'zu', 'zu', 'zu', 'zu', 'zu', 'zu']\n",
      "English: is it going to rain tomorrow\n",
      "German: ['das', 'ist', 'ist', 'zu', 'zu', 'zu', 'zu', 'zu', 'zu', 'zu', 'zu', 'zu']\n",
      "Gen #1050 out of 10000. Loss: 5.326\n",
      "Gen #1100 out of 10000. Loss: 4.878\n",
      "Gen #1150 out of 10000. Loss: 4.904\n",
      "Gen #1200 out of 10000. Loss: 4.976\n",
      "Gen #1250 out of 10000. Loss: 4.717\n",
      "Gen #1300 out of 10000. Loss: 4.854\n",
      "Gen #1350 out of 10000. Loss: 5.082\n",
      "Gen #1400 out of 10000. Loss: 4.977\n",
      "Gen #1450 out of 10000. Loss: 4.844\n",
      "Gen #1500 out of 10000. Loss: 4.96\n",
      "English: hello where is my computer\n",
      "German: ['es', 'ist', 'ist', 'ist', 'ist', 'ist', 'ist', 'ist', 'ist', 'zu']\n",
      "English: the quick brown fox jumped over the lazy dog\n",
      "German: ['der', 'ist', 'die', 'die', 'die', 'die', 'die', 'die', 'die', 'zu', 'zu', 'zu', 'zu', 'zu', 'zu', 'zu', 'zu']\n",
      "English: is it going to rain tomorrow\n",
      "German: ['es', 'ist', 'ist', 'ist', 'zu', 'zu', 'zu', 'zu', 'zu', 'zu', 'zu', 'zu']\n",
      "Gen #1550 out of 10000. Loss: 4.453\n",
      "Gen #1600 out of 10000. Loss: 5.135\n",
      "Gen #1650 out of 10000. Loss: 5.058\n",
      "Gen #1700 out of 10000. Loss: 4.691\n",
      "Gen #1750 out of 10000. Loss: 4.159\n",
      "Gen #1800 out of 10000. Loss: 4.77\n",
      "Gen #1850 out of 10000. Loss: 4.661\n",
      "Gen #1900 out of 10000. Loss: 4.655\n",
      "Gen #1950 out of 10000. Loss: 4.978\n",
      "Gen #2000 out of 10000. Loss: 4.655\n",
      "Saving model to temp/seq2seq_model.\n",
      "English: hello where is my computer\n",
      "German: ['das', 'ist', 'ist', 'ist', 'ist', 'ist', 'ist', 'ist', 'ist', 'ist']\n",
      "English: the quick brown fox jumped over the lazy dog\n",
      "German: ['der', 'ist', 'ist', 'der', 'der', 'der', 'der', 'der', 'der', 'der', 'der', 'zu', 'zu', 'zu', 'zu', 'zu', 'zu']\n",
      "English: is it going to rain tomorrow\n",
      "German: ['es', 'ist', 'es', 'zu', 'zu', 'zu', 'zu', 'zu', 'zu', 'zu', 'zu', 'zu']\n",
      "Gen #2050 out of 10000. Loss: 4.499\n",
      "Gen #2100 out of 10000. Loss: 4.72\n",
      "Gen #2150 out of 10000. Loss: 4.111\n",
      "Gen #2200 out of 10000. Loss: 4.544\n",
      "Gen #2250 out of 10000. Loss: 3.87\n",
      "Gen #2300 out of 10000. Loss: 4.362\n",
      "Gen #2350 out of 10000. Loss: 4.252\n",
      "Gen #2400 out of 10000. Loss: 4.792\n",
      "Gen #2450 out of 10000. Loss: 4.404\n",
      "Gen #2500 out of 10000. Loss: 4.112\n",
      "English: hello where is my computer\n",
      "German: ['mein', 'ist', 'ist', 'ist', 'ist', 'ist', 'ist', 'ist', 'ist', 'ist']\n",
      "English: the quick brown fox jumped over the lazy dog\n",
      "German: ['die', 'ist', 'ist', 'die', 'die', 'die', 'die', 'die', 'sie', 'sie', 'sie', 'sie', 'sie', 'sie', 'sie', 'sie', 'sie']\n",
      "English: is it going to rain tomorrow\n",
      "German: ['es', 'ist', 'es', 'zu', 'zu', 'zu', 'zu', 'zu', 'zu', 'zu', 'zu', 'zu']\n",
      "Gen #2550 out of 10000. Loss: 4.865\n",
      "Gen #2600 out of 10000. Loss: 3.89\n",
      "Gen #2650 out of 10000. Loss: 3.872\n",
      "Gen #2700 out of 10000. Loss: 4.871\n",
      "Gen #2750 out of 10000. Loss: 4.521\n",
      "Gen #2800 out of 10000. Loss: 4.469\n",
      "Gen #2850 out of 10000. Loss: 4.437\n",
      "Gen #2900 out of 10000. Loss: 4.789\n",
      "Gen #2950 out of 10000. Loss: 4.644\n",
      "Gen #3000 out of 10000. Loss: 4.766\n",
      "Saving model to temp/seq2seq_model.\n",
      "English: hello where is my computer\n",
      "German: ['meine', 'ist', 'ist', 'meine', 'meine', 'ist', 'ist', 'ist', 'ist', 'ist']\n",
      "English: the quick brown fox jumped over the lazy dog\n",
      "German: ['die', 'der', 'hat', 'die', 'der', 'der', 'der', 'der', 'die', 'die', 'die', 'die', 'die', 'die', 'die', 'die', 'die']\n",
      "English: is it going to rain tomorrow\n",
      "German: ['es', 'es', 'es', 'zu', 'zu', 'zu', 'zu', 'zu', 'zu', 'zu', 'zu', 'zu']\n",
      "Gen #3050 out of 10000. Loss: 4.368\n",
      "Gen #3100 out of 10000. Loss: 4.578\n",
      "Gen #3150 out of 10000. Loss: 4.71\n",
      "Gen #3200 out of 10000. Loss: 3.402\n",
      "Gen #3250 out of 10000. Loss: 3.923\n",
      "Gen #3300 out of 10000. Loss: 4.329\n",
      "Gen #3350 out of 10000. Loss: 4.034\n",
      "Gen #3400 out of 10000. Loss: 4.64\n",
      "Gen #3450 out of 10000. Loss: 4.357\n",
      "Gen #3500 out of 10000. Loss: 4.76\n",
      "English: hello where is my computer\n",
      "German: ['mein', 'ist', 'ist', 'ist', 'ist', 'ist', 'ist', 'ist', 'ist', 'ist']\n",
      "English: the quick brown fox jumped over the lazy dog\n",
      "German: ['der', 'der', 'hat', 'sich', 'sich', 'die', 'die', 'die', 'die', 'die', 'die', 'war', 'war', 'war', 'war', 'war', 'war']\n",
      "English: is it going to rain tomorrow\n",
      "German: ['es', 'es', 'zu', 'zu', 'zu', 'zu', 'zu', 'zu', 'zu', 'zu', 'zu', 'zu']\n",
      "Gen #3550 out of 10000. Loss: 3.661\n",
      "Gen #3600 out of 10000. Loss: 3.399\n",
      "Gen #3650 out of 10000. Loss: 3.954\n",
      "Gen #3700 out of 10000. Loss: 4.573\n",
      "Gen #3750 out of 10000. Loss: 4.395\n",
      "Gen #3800 out of 10000. Loss: 4.096\n",
      "Gen #3850 out of 10000. Loss: 4.525\n",
      "Gen #3900 out of 10000. Loss: 4.456\n",
      "Gen #3950 out of 10000. Loss: 4.485\n",
      "Gen #4000 out of 10000. Loss: 3.908\n",
      "Saving model to temp/seq2seq_model.\n",
      "English: hello where is my computer\n",
      "German: ['meine', 'ist', 'meine', 'meine', 'meine', 'ist', 'ist', 'ist', 'ist', 'ist']\n",
      "English: the quick brown fox jumped over the lazy dog\n",
      "German: ['der', 'mann', 'wurde', 'die', 'die', 'die', 'die', 'die', 'die', 'die', 'die', 'der', 'war', 'war', 'war', 'war', 'war']\n",
      "English: is it going to rain tomorrow\n",
      "German: ['es', 'es', 'es', 'zu', 'zu', 'zu', 'zu', 'zu', 'zu', 'zu', 'zu', 'zu']\n",
      "Gen #4050 out of 10000. Loss: 3.526\n",
      "Gen #4100 out of 10000. Loss: 3.986\n",
      "Gen #4150 out of 10000. Loss: 3.713\n",
      "Gen #4200 out of 10000. Loss: 3.752\n",
      "Gen #4250 out of 10000. Loss: 3.774\n",
      "Gen #4300 out of 10000. Loss: 3.7\n",
      "Gen #4350 out of 10000. Loss: 4.049\n",
      "Gen #4400 out of 10000. Loss: 3.515\n",
      "Gen #4450 out of 10000. Loss: 3.918\n",
      "Gen #4500 out of 10000. Loss: 4.466\n",
      "English: hello where is my computer\n",
      "German: ['wo', 'ist', 'ist', 'ist', 'ist', 'ist', 'ist', 'ist', 'ist', 'ist']\n",
      "English: the quick brown fox jumped over the lazy dog\n",
      "German: ['die', 'mann', 'hat', 'die', 'die', 'die', 'die', 'die', 'die', 'hat', 'hat', 'hat', 'hat', 'hat', 'hat', 'hat', 'hat']\n",
      "English: is it going to rain tomorrow\n",
      "German: ['ist', 'es', 'zu', 'zu', 'zu', 'zu', 'zu', 'zu', 'zu', 'zu', 'zu', 'zu']\n",
      "Gen #4550 out of 10000. Loss: 3.575\n",
      "Gen #4600 out of 10000. Loss: 4.065\n",
      "Gen #4650 out of 10000. Loss: 3.231\n",
      "Gen #4700 out of 10000. Loss: 3.409\n",
      "Gen #4750 out of 10000. Loss: 3.144\n",
      "Gen #4800 out of 10000. Loss: 4.42\n",
      "Gen #4850 out of 10000. Loss: 3.69\n",
      "Gen #4900 out of 10000. Loss: 4.285\n",
      "Gen #4950 out of 10000. Loss: 4.393\n",
      "Gen #5000 out of 10000. Loss: 4.216\n",
      "Saving model to temp/seq2seq_model.\n",
      "English: hello where is my computer\n",
      "German: ['wo', 'ist', 'meine', 'meine', 'ist', 'ist', 'ist', 'ist', 'ist', 'ist']\n",
      "English: the quick brown fox jumped over the lazy dog\n",
      "German: ['der', 'mann', 'hat', 'die', 'die', 'die', 'die', 'die', 'die', 'die', 'die', 'war', 'war', 'hat', 'hat', 'hat', 'hat']\n",
      "English: is it going to rain tomorrow\n",
      "German: ['ist', 'es', 'morgen', 'morgen', 'zu', 'zu', 'zu', 'zu', 'zu', 'zu', 'zu', 'zu']\n",
      "Gen #5050 out of 10000. Loss: 3.256\n",
      "Gen #5100 out of 10000. Loss: 3.782\n",
      "Gen #5150 out of 10000. Loss: 3.63\n",
      "Gen #5200 out of 10000. Loss: 3.249\n",
      "Gen #5250 out of 10000. Loss: 3.444\n",
      "Gen #5300 out of 10000. Loss: 4.069\n",
      "Gen #5350 out of 10000. Loss: 3.32\n",
      "Gen #5400 out of 10000. Loss: 4.405\n",
      "Gen #5450 out of 10000. Loss: 3.054\n",
      "Gen #5500 out of 10000. Loss: 3.439\n",
      "English: hello where is my computer\n",
      "German: ['wo', 'ist', 'meine', 'meine', 'meine', 'meine', 'ist', 'ist', 'ist', 'ist']\n",
      "English: the quick brown fox jumped over the lazy dog\n",
      "German: ['der', 'mann', 'hat', 'die', 'die', 'die', 'die', 'die', 'den', 'den', 'den', 'zu', 'hatte', 'hat', 'hat', 'hat', 'hat']\n",
      "English: is it going to rain tomorrow\n",
      "German: ['ist', 'es', 'morgen', 'morgen', 'morgen', 'morgen', 'zu', 'zu', 'zu', 'zu', 'zu', 'zu']\n",
      "Gen #5550 out of 10000. Loss: 3.686\n",
      "Gen #5600 out of 10000. Loss: 3.612\n",
      "Gen #5650 out of 10000. Loss: 2.975\n",
      "Gen #5700 out of 10000. Loss: 4.207\n",
      "Gen #5750 out of 10000. Loss: 4.103\n",
      "Gen #5800 out of 10000. Loss: 3.184\n",
      "Gen #5850 out of 10000. Loss: 4.118\n",
      "Gen #5900 out of 10000. Loss: 3.51\n",
      "Gen #5950 out of 10000. Loss: 3.406\n",
      "Gen #6000 out of 10000. Loss: 4.096\n",
      "Saving model to temp/seq2seq_model.\n",
      "English: hello where is my computer\n",
      "German: ['wo', 'ist', 'meine', 'meine', 'mein', 'ist', 'ist', 'ist', 'ist', 'ist']\n",
      "English: the quick brown fox jumped over the lazy dog\n",
      "German: ['der', 'mann', 'hat', 'die', 'die', 'die', 'die', 'die', 'die', 'die', 'hatte', 'hatte', 'hatte', 'hatte', 'hatte', 'hatte', 'hatte']\n",
      "English: is it going to rain tomorrow\n",
      "German: ['ist', 'es', 'morgen', 'morgen', 'morgen', 'morgen', 'morgen', 'zu', 'zu', 'zu', 'zu', 'zu']\n",
      "Gen #6050 out of 10000. Loss: 3.151\n",
      "Gen #6100 out of 10000. Loss: 3.761\n",
      "Gen #6150 out of 10000. Loss: 3.79\n",
      "Gen #6200 out of 10000. Loss: 3.692\n",
      "Gen #6250 out of 10000. Loss: 4.191\n",
      "Gen #6300 out of 10000. Loss: 3.054\n",
      "Gen #6350 out of 10000. Loss: 3.479\n",
      "Gen #6400 out of 10000. Loss: 3.183\n",
      "Gen #6450 out of 10000. Loss: 3.441\n",
      "Gen #6500 out of 10000. Loss: 4.02\n",
      "English: hello where is my computer\n",
      "German: ['wo', 'ist', 'meine', 'meine', 'meine', 'ist', 'ist', 'ist', 'ist', 'ist']\n",
      "English: the quick brown fox jumped over the lazy dog\n",
      "German: ['der', 'mann', 'hat', 'den', 'den', 'den', 'den', 'den', 'den', 'den', 'den', 'der', 'war', 'war', 'war', 'war', 'war']\n",
      "English: is it going to rain tomorrow\n",
      "German: ['wird', 'es', 'morgen', 'morgen', 'morgen', 'morgen', 'morgen', 'morgen', 'gehen', 'gehen', 'gehen', 'gehen']\n",
      "Gen #6550 out of 10000. Loss: 3.493\n",
      "Gen #6600 out of 10000. Loss: 3.04\n",
      "Gen #6650 out of 10000. Loss: 3.078\n",
      "Gen #6700 out of 10000. Loss: 3.51\n",
      "Gen #6750 out of 10000. Loss: 3.814\n",
      "Gen #6800 out of 10000. Loss: 3.468\n",
      "Gen #6850 out of 10000. Loss: 3.268\n",
      "Gen #6900 out of 10000. Loss: 4.03\n",
      "Gen #6950 out of 10000. Loss: 3.029\n",
      "Gen #7000 out of 10000. Loss: 3.59\n",
      "Saving model to temp/seq2seq_model.\n",
      "English: hello where is my computer\n",
      "German: ['wo', 'ist', 'meine', 'meine', 'meine', 'ist', 'ist', 'ist', 'ist', 'ist']\n",
      "English: the quick brown fox jumped over the lazy dog\n",
      "German: ['der', 'mann', 'hat', 'sich', 'die', 'die', 'die', 'mann', 'mann', 'mann', 'mann', 'hat', 'hat', 'hat', 'hat', 'hat', 'hat']\n",
      "English: is it going to rain tomorrow\n",
      "German: ['wird', 'es', 'morgen', 'morgen', 'morgen', 'morgen', 'gehen', 'gehen', 'gehen', 'werden', 'werden', 'werden']\n",
      "Gen #7050 out of 10000. Loss: 2.631\n",
      "Gen #7100 out of 10000. Loss: 2.974\n",
      "Gen #7150 out of 10000. Loss: 3.306\n",
      "Gen #7200 out of 10000. Loss: 3.555\n",
      "Gen #7250 out of 10000. Loss: 3.943\n",
      "Gen #7300 out of 10000. Loss: 3.932\n",
      "Gen #7350 out of 10000. Loss: 3.583\n",
      "Gen #7400 out of 10000. Loss: 3.593\n",
      "Gen #7450 out of 10000. Loss: 2.833\n",
      "Gen #7500 out of 10000. Loss: 3.738\n",
      "English: hello where is my computer\n",
      "German: ['wo', 'ist', 'mein', 'mein', 'mein', 'ist', 'ist', 'ist', 'ist', 'ist']\n",
      "English: the quick brown fox jumped over the lazy dog\n",
      "German: ['der', 'mann', 'hat', 'sich', 'die', 'die', 'die', 'die', 'hund', 'hund', 'hund', 'hund', 'hund', 'wurde', 'wurde', 'wurde', 'wurde']\n",
      "English: is it going to rain tomorrow\n",
      "German: ['wird', 'es', 'morgen', 'morgen', 'morgen', 'kommen', 'kommen', 'kommen', 'kommen', 'kommen', 'kommen', 'kommen']\n",
      "Gen #7550 out of 10000. Loss: 3.515\n",
      "Gen #7600 out of 10000. Loss: 2.954\n",
      "Gen #7650 out of 10000. Loss: 3.933\n",
      "Gen #7700 out of 10000. Loss: 3.252\n",
      "Gen #7750 out of 10000. Loss: 2.993\n",
      "Gen #7800 out of 10000. Loss: 3.597\n",
      "Gen #7850 out of 10000. Loss: 3.499\n",
      "Gen #7900 out of 10000. Loss: 4.009\n",
      "Gen #7950 out of 10000. Loss: 3.716\n",
      "Gen #8000 out of 10000. Loss: 2.477\n",
      "Saving model to temp/seq2seq_model.\n",
      "English: hello where is my computer\n",
      "German: ['wo', 'ist', 'mein', 'mein', 'mein', 'mein', 'ist', 'ist', 'ist', 'ist']\n",
      "English: the quick brown fox jumped over the lazy dog\n",
      "German: ['der', 'mann', 'hat', 'sich', 'die', 'die', 'die', 'hund', 'hund', 'hund', 'hund', 'wurde', 'wurde', 'wurde', 'wurde', 'wurde', 'wurde']\n",
      "English: is it going to rain tomorrow\n",
      "German: ['ist', 'es', 'morgen', 'morgen', 'morgen', 'kommen', 'kommen', 'kommen', 'kommen', 'kommen', 'kommen', 'kommen']\n",
      "Gen #8050 out of 10000. Loss: 3.264\n",
      "Gen #8100 out of 10000. Loss: 2.105\n",
      "Gen #8150 out of 10000. Loss: 3.692\n",
      "Gen #8200 out of 10000. Loss: 2.701\n",
      "Gen #8250 out of 10000. Loss: 3.574\n",
      "Gen #8300 out of 10000. Loss: 2.88\n",
      "Gen #8350 out of 10000. Loss: 3.554\n",
      "Gen #8400 out of 10000. Loss: 3.779\n",
      "Gen #8450 out of 10000. Loss: 2.547\n",
      "Gen #8500 out of 10000. Loss: 3.565\n",
      "English: hello where is my computer\n",
      "German: ['wo', 'ist', 'meine', 'mein', 'mein', 'ist', 'ist', 'ist', 'ist', 'ist']\n",
      "English: the quick brown fox jumped over the lazy dog\n",
      "German: ['der', 'mann', 'hat', 'sich', 'sich', 'die', 'die', 'die', 'hund', 'hund', 'hund', 'hund', 'hund', 'hat', 'hat', 'hat', 'hat']\n",
      "English: is it going to rain tomorrow\n",
      "German: ['wird', 'es', 'morgen', 'morgen', 'morgen', 'kommen', 'kommen', 'kommen', 'kommen', 'kommen', 'kommen', 'muss']\n",
      "Gen #8550 out of 10000. Loss: 2.268\n",
      "Gen #8600 out of 10000. Loss: 2.799\n",
      "Gen #8650 out of 10000. Loss: 2.679\n",
      "Gen #8700 out of 10000. Loss: 3.278\n",
      "Gen #8750 out of 10000. Loss: 3.373\n",
      "Gen #8800 out of 10000. Loss: 2.632\n",
      "Gen #8850 out of 10000. Loss: 3.302\n",
      "Gen #8900 out of 10000. Loss: 3.145\n",
      "Gen #8950 out of 10000. Loss: 2.752\n",
      "Gen #9000 out of 10000. Loss: 3.807\n",
      "Saving model to temp/seq2seq_model.\n",
      "English: hello where is my computer\n",
      "German: ['wo', 'ist', 'meine', 'meine', 'mein', 'ist', 'ist', 'ist', 'ist', 'ist']\n",
      "English: the quick brown fox jumped over the lazy dog\n",
      "German: ['der', 'mann', 'hat', 'sich', 'sich', 'die', 'die', 'die', 'die', 'die', 'hund', 'hund', 'hund', 'hund', 'hat', 'hat', 'hat']\n",
      "English: is it going to rain tomorrow\n",
      "German: ['wird', 'es', 'morgen', 'morgen', 'morgen', 'morgen', 'kommen', 'kommen', 'kommen', 'kommen', 'kommen', 'kommen']\n",
      "Gen #9050 out of 10000. Loss: 2.773\n",
      "Gen #9100 out of 10000. Loss: 2.477\n",
      "Gen #9150 out of 10000. Loss: 2.899\n",
      "Gen #9200 out of 10000. Loss: 2.985\n",
      "Gen #9250 out of 10000. Loss: 2.741\n",
      "Gen #9300 out of 10000. Loss: 3.437\n",
      "Gen #9350 out of 10000. Loss: 2.529\n",
      "Gen #9400 out of 10000. Loss: 3.025\n",
      "Gen #9450 out of 10000. Loss: 3.395\n",
      "Gen #9500 out of 10000. Loss: 2.775\n",
      "English: hello where is my computer\n",
      "German: ['wo', 'ist', 'meine', 'meine', 'ist', 'ist', 'ist', 'ist', 'ist', 'ist']\n",
      "English: the quick brown fox jumped over the lazy dog\n",
      "German: ['der', 'mann', 'hat', 'sich', 'ber', 'die', 'die', 'hund', 'hund', 'hund', 'hund', 'hund', 'hund', 'hund', 'hund', 'hund', 'hund']\n",
      "English: is it going to rain tomorrow\n",
      "German: ['wird', 'es', 'morgen', 'morgen', 'morgen', 'morgen', 'kommen', 'kommen', 'kommen', 'kommen', 'kommen', 'muss']\n",
      "Gen #9550 out of 10000. Loss: 2.758\n",
      "Gen #9600 out of 10000. Loss: 2.622\n",
      "Gen #9650 out of 10000. Loss: 3.466\n",
      "Gen #9700 out of 10000. Loss: 2.492\n",
      "Gen #9750 out of 10000. Loss: 2.718\n",
      "Gen #9800 out of 10000. Loss: 3.33\n",
      "Gen #9850 out of 10000. Loss: 2.351\n",
      "Gen #9900 out of 10000. Loss: 2.164\n",
      "Gen #9950 out of 10000. Loss: 3.074\n",
      "Gen #10000 out of 10000. Loss: 2.125\n",
      "Saving model to temp/seq2seq_model.\n",
      "English: hello where is my computer\n",
      "German: ['wo', 'wo', 'mein', 'mein', 'mein', 'ist', 'ist', 'ist', 'ist', 'ist']\n",
      "English: the quick brown fox jumped over the lazy dog\n",
      "German: ['der', 'mann', 'hat', 'sich', 'ber', 'ber', 'den', 'hund', 'hund', 'hund', 'hund', 'hund', 'hund', 'hat', 'hat', 'hat', 'hat']\n",
      "English: is it going to rain tomorrow\n",
      "German: ['wird', 'es', 'morgen', 'morgen', 'morgen', 'regnen', 'kommen', 'kommen', 'kommen', 'kommen', 'kommen', 'kommen']\n"
     ]
    }
   ],
   "source": [
    "# Start training\n",
    "train_loss = []\n",
    "for i in range(generations):\n",
    "    rand_bucket_ix = np.random.choice(len(bucketed_data))\n",
    "    \n",
    "    model_outputs = translate_model.get_batch(bucketed_data, rand_bucket_ix)\n",
    "    encoder_inputs, decoder_inputs, target_weights = model_outputs\n",
    "    \n",
    "    # Get the (gradient norm, loss, and outputs)\n",
    "    _, step_loss, _ = translate_model.step(sess, encoder_inputs, decoder_inputs,\n",
    "                                           target_weights, rand_bucket_ix, False)\n",
    "    \n",
    "    # Output status\n",
    "    if (i+1) % output_every == 0:\n",
    "        train_loss.append(step_loss)\n",
    "        print('Gen #{} out of {}. Loss: {:.4}'.format(i+1, generations, step_loss))\n",
    "    \n",
    "    # Check if we should decay the learning rate\n",
    "    if (i+1) % lr_decay_every == 0:\n",
    "        sess.run(translate_model.learning_rate_decay_op)\n",
    "        \n",
    "    # Save model\n",
    "    if (i+1) % save_every == 0:\n",
    "        print('Saving model to {}.'.format(full_model_dir))\n",
    "        model_save_path = os.path.join(full_model_dir, \"eng_ger_translation.ckpt\")\n",
    "        translate_model.saver.save(sess, model_save_path, global_step=i)\n",
    "        \n",
    "    # Eval on test set\n",
    "    if (i+1) % eval_every == 0:\n",
    "        for ix, sentence in enumerate(test_data):\n",
    "            # Find which bucket sentence goes in\n",
    "            bucket_id = next(index for index, val in enumerate(x_maxs) if val>=len(sentence))\n",
    "            # Get RNN model outputs\n",
    "            encoder_inputs, decoder_inputs, target_weights = test_model.get_batch(\n",
    "                {bucket_id: [(sentence, [])]}, bucket_id)\n",
    "            # Get logits\n",
    "            _, test_loss, output_logits = test_model.step(sess, encoder_inputs, decoder_inputs,\n",
    "                                                           target_weights, bucket_id, True)\n",
    "            ix_output = [int(np.argmax(logit, axis=1)) for logit in output_logits]\n",
    "            # If there is a 0 symbol in outputs end the output there.\n",
    "            ix_output = ix_output[0:[ix for ix, x in enumerate(ix_output+[0]) if x==0][0]]\n",
    "            # Get german words from indices\n",
    "            test_german = [ger_ix2vocab[x] for x in ix_output]\n",
    "            print('English: {}'.format(test_english[ix]))\n",
    "            print('German: {}'.format(test_german))"
   ]
  },
  {
   "cell_type": "markdown",
   "metadata": {
    "deletable": true,
    "editable": true
   },
   "source": [
    "Here is matplotib code to plot the training loss over the 10000 iterations."
   ]
  },
  {
   "cell_type": "code",
   "execution_count": 16,
   "metadata": {
    "collapsed": false,
    "deletable": true,
    "editable": true
   },
   "outputs": [
    {
     "data": {
      "image/png": "[encoded data removed]",
      "text/plain": [
       "<matplotlib.figure.Figure at 0x7f6af31075f8>"
      ]
     },
     "metadata": {},
     "output_type": "display_data"
    }
   ],
   "source": [
    "# Plot train loss\n",
    "loss_generations = [i for i in range(generations) if i%output_every==0]\n",
    "plt.plot(loss_generations, train_loss, 'k-')\n",
    "plt.title('Sequence to Sequence Loss')\n",
    "plt.xlabel('Generation')\n",
    "plt.ylabel('Loss')\n",
    "plt.show()"
   ]
  }
 ],
 "metadata": {
  "kernelspec": {
   "display_name": "Python 3",
   "language": "python",
   "name": "python3"
  },
  "language_info": {
   "codemirror_mode": {
    "name": "ipython",
    "version": 3
   },
   "file_extension": ".py",
   "mimetype": "text/x-python",
   "name": "python",
   "nbconvert_exporter": "python",
   "pygments_lexer": "ipython3",
   "version": "3.5.2"
  }
 },
 "nbformat": 4,
 "nbformat_minor": 2
}
